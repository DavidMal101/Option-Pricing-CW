{
 "cells": [
  {
   "cell_type": "code",
   "execution_count": 1,
   "id": "fe9a6585",
   "metadata": {},
   "outputs": [],
   "source": [
    "import scipy as sci\n",
    "import scipy.optimize\n",
    "import numpy as np\n",
    "from fractions import Fraction\n",
    "import matplotlib.pyplot as plt"
   ]
  },
  {
   "cell_type": "markdown",
   "id": "547b8bab",
   "metadata": {},
   "source": [
    "# Part 1"
   ]
  },
  {
   "cell_type": "markdown",
   "id": "5de28f38",
   "metadata": {},
   "source": [
    "Consider first the Market (B,S1,S2) given by:\n",
    "\\begin{align}\n",
    "S_1^1=\\begin{bmatrix}36\\\\24\\\\20\\\\12\\end{bmatrix},S_1^2=\\begin{bmatrix}72\\\\120\\\\96\\\\48\\end{bmatrix}, B_1=(1+r)\n",
    "\\end{align}\n",
    "Where:\n",
    "\\begin{align}\n",
    "S_0^1=11, S_0^2=44, r=1\n",
    "\\end{align}\n",
    "\n",
    "With probabilities:\n",
    "\\begin{align}\n",
    "Q=[1/6,1/6,1/2,1/6]\n",
    "\\end{align}\n"
   ]
  },
  {
   "cell_type": "markdown",
   "id": "8e952b46",
   "metadata": {},
   "source": [
    "We found the initial price of $S^1$ and $S^2$ by using the Risk Neutral Pricing Formula\n",
    "\\begin{align}\n",
    "\\frac{\\mathbb{E}_{\\mathbb{Q}}[S_1^i]}{1+r}=S_0^i\n",
    "\\end{align}"
   ]
  },
  {
   "cell_type": "code",
   "execution_count": 2,
   "id": "0edde1ed",
   "metadata": {},
   "outputs": [
    {
     "name": "stdout",
     "output_type": "stream",
     "text": [
      "11.0\n",
      "44.0\n"
     ]
    }
   ],
   "source": [
    "print(36/2*1/6+24/2*1/6+20/2*1/2+12/2*1/6)\n",
    "print(72/2*1/6+120/2*1/6+96/2*1/2+48/2*1/6)"
   ]
  },
  {
   "cell_type": "markdown",
   "id": "31abd23a",
   "metadata": {},
   "source": [
    "## (a)"
   ]
  },
  {
   "cell_type": "markdown",
   "id": "dcd046d2",
   "metadata": {},
   "source": [
    "Consider now the straddle option on $S^1$ with strike $K=24$, which has payoff:\n",
    "\\begin{align}\n",
    "X_1=(S_1^1-24)^++(24-S1_1^1)^+ =\\begin{bmatrix}12\\\\0\\\\4\\\\12\\end{bmatrix}\n",
    "\\end{align}\n",
    "\n",
    "Briefly consider the reduced market of $(B,S^1)$ show that $X$ is irreplicable and becomes replicable when we include $S^2$ in the market\n"
   ]
  },
  {
   "cell_type": "code",
   "execution_count": 3,
   "id": "4fd344a0",
   "metadata": {},
   "outputs": [
    {
     "name": "stderr",
     "output_type": "stream",
     "text": [
      "C:\\Users\\david\\AppData\\Local\\Temp\\ipykernel_16692\\756226737.py:7: OptimizeWarning: A_eq does not appear to be of full row rank. To improve performance, check the problem formulation for redundant equality constraints.\n",
      "  sci.optimize.linprog(c,A_eq=A,b_eq=b,options={\"presolve\" : \"False\"},bounds=[x,h1])\n"
     ]
    },
    {
     "data": {
      "text/plain": [
       "     con: array([6., 0., 2., 6.])\n",
       "     fun: 0.0\n",
       " message: 'There is a linear combination of rows of A_eq that results in zero, suggesting a redundant constraint. However the same linear combination of b_eq is nonzero, suggesting that the constraints conflict and the problem is infeasible.'\n",
       "     nit: 0\n",
       "   slack: array([], dtype=float64)\n",
       "  status: 2\n",
       " success: False\n",
       "       x: array([0., 0.])"
      ]
     },
     "execution_count": 3,
     "metadata": {},
     "output_type": "execute_result"
    }
   ],
   "source": [
    "#set up our linear programme\n",
    "c=[0,0] #vector of coefficients for the linear function to be minimised\n",
    "A=[[1,7],[1,1],[1,-1],[1,-5]] #matrix of coefficients of each linear inequality\n",
    "b=[6,0,2,6] # vector of right hand side inequality values\n",
    "x=[0,None] # bounds on initial capital\n",
    "h1=[None,None] # bounds on amount of S1\n",
    "sci.optimize.linprog(c,A_eq=A,b_eq=b,options={\"presolve\" : \"False\"},bounds=[x,h1])"
   ]
  },
  {
   "cell_type": "markdown",
   "id": "4a5151d5",
   "metadata": {},
   "source": [
    "We see that the problem is infeasible, so $X$ can not be replicated"
   ]
  },
  {
   "cell_type": "markdown",
   "id": "694a78e3",
   "metadata": {},
   "source": [
    "## (b)"
   ]
  },
  {
   "cell_type": "markdown",
   "id": "51541c09",
   "metadata": {},
   "source": [
    "If we now consider the full market that includes $S^2$, is such a market free of arbitrage?"
   ]
  },
  {
   "cell_type": "code",
   "execution_count": 4,
   "id": "49aa6b62",
   "metadata": {},
   "outputs": [
    {
     "name": "stdout",
     "output_type": "stream",
     "text": [
      "True\n",
      "True\n"
     ]
    }
   ],
   "source": [
    "s11=[36,24,20,12]\n",
    "s12=[72,120,96,48]\n",
    "s01=11\n",
    "s02=44\n",
    "r=1\n",
    "#find u and d for each underlying\n",
    "u1=np.max(s11)/s01\n",
    "d1=np.min(s11)/s01\n",
    "u2=np.max(s12)/s02\n",
    "d2=np.min(s12)/s02\n",
    "#Check if the 1+r lies between d and u\n",
    "print(d1<(1+r)<u1)\n",
    "print(d2<(1+r)<u2)"
   ]
  },
  {
   "cell_type": "markdown",
   "id": "995d04ba",
   "metadata": {},
   "source": [
    "We can also find the set of Equivalent Martingale measures as\n",
    "\\begin{align}\n",
    "Q=\\begin{bmatrix}1/6\\\\\\frac{1}{2}-\\frac{2}{3}t\\\\t\\\\\\frac{1-t}{3}\\end{bmatrix}, t\\in (0,\\frac{3}{4})\n",
    "\\end{align}\n",
    "We can see then that the set of equivalent martingale measures is not a null set, so there is no arbitrage"
   ]
  },
  {
   "cell_type": "markdown",
   "id": "bb474643",
   "metadata": {},
   "source": [
    "This is found by solving:\n",
    "\\begin{align}\n",
    "q_1\\frac{36}{2}+q_2\\frac{24}{2}+q_3\\frac{20}{2}+q_4\\frac{12}{2}=11 \\\\\n",
    "q_1\\frac{72}{2}+q_2\\frac{120}{2}+q_3\\frac{96}{2}+q_4\\frac{48}{2}=44 \\\\\n",
    "q_1+q_2+q_3+q_4=1\n",
    "\\end{align}"
   ]
  },
  {
   "cell_type": "code",
   "execution_count": 5,
   "id": "4cf2276c",
   "metadata": {},
   "outputs": [
    {
     "name": "stdout",
     "output_type": "stream",
     "text": [
      "Lower bound of q1 1/6\n",
      "Upper bound of q1 1/6\n",
      "Lower bound of q2 0\n",
      "Upper bound of q2 1/2\n",
      "Lower bound of q3 0\n",
      "Upper bound of q3 3/4\n",
      "Lower bound of q4 1/12\n",
      "Upper bound of q4 1/3\n"
     ]
    }
   ],
   "source": [
    "#Implementing the above equations as Ax=b\n",
    "A=np.array([[18,12,10,6],[36,60,48,24],[1,1,1,1]])\n",
    "b=np.array([11,44,1])\n",
    "#The bounds on each qi\n",
    "q1=[0,1]\n",
    "q2=[0,1]\n",
    "q3=[0,1]\n",
    "q4=[0,1]\n",
    "\n",
    "for i in range(0,4):\n",
    "    #at each point we find the maximal and minimal values of each qi that satisfies the equations\n",
    "    qi=np.zeros(4)\n",
    "    qi[i]=1\n",
    "    print(\"Lower bound of q%s\"%(i+1),Fraction(sci.optimize.linprog(qi,A_eq=A,b_eq=b,options={\"presolve\" : \"False\"},bounds=[q1,q2,q3,q4]).x[i]).limit_denominator())\n",
    "    print(\"Upper bound of q%s\"%(i+1),Fraction(sci.optimize.linprog(-qi,A_eq=-A,b_eq=-b,options={\"presolve\" : \"False\"},bounds=[q1,q2,q3,q4]).x[i]).limit_denominator())"
   ]
  },
  {
   "cell_type": "markdown",
   "id": "9c69fe00",
   "metadata": {},
   "source": [
    "This confirms the above calculation"
   ]
  },
  {
   "cell_type": "markdown",
   "id": "2caeb918",
   "metadata": {},
   "source": [
    "## (c)"
   ]
  },
  {
   "cell_type": "markdown",
   "id": "2831a44d",
   "metadata": {},
   "source": [
    "Is the market complete?\n",
    "\n",
    "No as we saw above the Equivalent Martingale Measure is not unique, more generally the vector space given by\n",
    "\\begin{align}\n",
    "\\begin{bmatrix}1\\\\1\\\\1\\\\1\\end{bmatrix},\\begin{bmatrix}7\\\\1\\\\-1\\\\-5\\end{bmatrix},\\begin{bmatrix}-8\\\\16\\\\4\\\\-20\\end{bmatrix}\n",
    "\\end{align}\n",
    "does not span $\\mathbb{R}^4$, the set containing all possible derivative payoffs, so not all equations are guaranteed to have a solution, hence not all derivatives can be replicated and the market is incomplete."
   ]
  },
  {
   "cell_type": "markdown",
   "id": "0c3080a2",
   "metadata": {},
   "source": [
    "## (d)"
   ]
  },
  {
   "cell_type": "markdown",
   "id": "a359b0bc",
   "metadata": {},
   "source": [
    "In this market is the straddle $X$ given above replicable, if so what is it's arbitrage free price?\n",
    "In other words we want to solve:\n",
    "\n",
    "\\begin{align}\n",
    "x\\begin{bmatrix}1\\\\1\\\\1\\\\1\\end{bmatrix}+h^1\\begin{bmatrix}\\frac{36}{2}-11\\\\\\frac{24}{2}-11\\\\\\frac{20}{2}-11\\\\\\frac{12}{2}-11\\end{bmatrix}+h^2\\begin{bmatrix}\\frac{72}{2}-44\\\\\\frac{120}{2}-44\\\\\\frac{96}{2}-44\\\\\\frac{48}{2}-44\\end{bmatrix}=\\begin{bmatrix}\\frac{12}{2}\\\\0\\\\\\frac{4}{2}\\\\\\frac{12}{2}\\end{bmatrix}\n",
    "\\end{align}\n",
    "\n",
    "\\begin{align}\n",
    "=x\\begin{bmatrix}1\\\\1\\\\1\\\\1\\end{bmatrix}+h^1\\begin{bmatrix}7\\\\1\\\\-1\\\\-5\\end{bmatrix}+h^2\\begin{bmatrix}-8\\\\16\\\\4\\\\-20\\end{bmatrix}=\\begin{bmatrix}6\\\\0\\\\2\\\\6\\end{bmatrix}\n",
    "\\end{align}"
   ]
  },
  {
   "cell_type": "code",
   "execution_count": 6,
   "id": "73000c45",
   "metadata": {},
   "outputs": [
    {
     "name": "stdout",
     "output_type": "stream",
     "text": [
      "[ 3.   0.2 -0.2]\n"
     ]
    },
    {
     "name": "stderr",
     "output_type": "stream",
     "text": [
      "C:\\Users\\david\\AppData\\Local\\Temp\\ipykernel_16692\\265303241.py:9: OptimizeWarning: A_eq does not appear to be of full row rank. To improve performance, check the problem formulation for redundant equality constraints.\n",
      "  res=sci.optimize.linprog(c,A_eq=A,b_eq=b,options={\"presolve\" : \"False\"},bounds=[x,h1,h2])\n"
     ]
    }
   ],
   "source": [
    "#Set up the set of equations for the straddle option as Ax=b\n",
    "c=[0,0,0] # consider the equality so no function is minimised\n",
    "A=[[1,7,-8],[1,1,16],[1,-1,4],[1,-5,-20]] #coefficients of x,h1,h2\n",
    "b=[6,0,2,6] #right hand side of equations\n",
    "#bounds\n",
    "x=[None,None]\n",
    "h1=[None,None]\n",
    "h2=[None,None]\n",
    "res=sci.optimize.linprog(c,A_eq=A,b_eq=b,options={\"presolve\" : \"False\"},bounds=[x,h1,h2])\n",
    "print(res.x)"
   ]
  },
  {
   "cell_type": "markdown",
   "id": "0c049080",
   "metadata": {},
   "source": [
    "We can see here that the portfolio $[3,0.2,-0.2]$ replicates $X$"
   ]
  },
  {
   "cell_type": "markdown",
   "id": "8a646a6e",
   "metadata": {},
   "source": [
    "## (e)\n",
    "The arbitrage free price of $X$ is $3$"
   ]
  },
  {
   "cell_type": "markdown",
   "id": "b5a8318f",
   "metadata": {},
   "source": [
    "This can also be solved by showing $U(X)$=$D(X)$"
   ]
  },
  {
   "cell_type": "code",
   "execution_count": 7,
   "id": "396b672f",
   "metadata": {},
   "outputs": [
    {
     "data": {
      "text/plain": [
       "array([ 3. ,  0.2, -0.2])"
      ]
     },
     "execution_count": 7,
     "metadata": {},
     "output_type": "execute_result"
    }
   ],
   "source": [
    "#U(X)\n",
    "c=[1,0,0] #minimise x in (x,h1,h2) for super-replicating portfolios\n",
    "A=np.array([[1,7,-8],[1,1,16],[1,-1,4],[1,-5,-20]])\n",
    "b=np.array([6,0,2,6])\n",
    "x=[0,None]\n",
    "h1=[None,None]\n",
    "h2=[None,None]\n",
    "sci.optimize.linprog(c,A_ub=-A,b_ub=-b,options={\"presolve\" : \"False\"},bounds=[x,h1,h2])\n",
    "#here we use -A and -b as the function uses \"-Ax<=-b\" ie \"Ax>=b\" which is what we want \n",
    "res.x"
   ]
  },
  {
   "cell_type": "code",
   "execution_count": 8,
   "id": "932144ce",
   "metadata": {},
   "outputs": [
    {
     "data": {
      "text/plain": [
       "array([ 3. ,  0.2, -0.2])"
      ]
     },
     "execution_count": 8,
     "metadata": {},
     "output_type": "execute_result"
    }
   ],
   "source": [
    "#Repeat for D(x) now\n",
    "c=[-1,0,0] #maximise x in (x,h1,h2) for super-replicating portfolios\n",
    "A=np.array([[1,7,-8],[1,1,16],[1,-1,4],[1,-5,-20]]) #set of values of (x(w),s1(w),s2(w))\n",
    "b=np.array([6,0,2,6])\n",
    "kb=[0,None]\n",
    "h1=[None,None]\n",
    "h2=[None,None]\n",
    "res=sci.optimize.linprog(c,A_ub=A,b_ub=b,options={\"presolve\" : \"False\"},bounds=[kb,h1,h2])\n",
    "#solving Ax<=b now for sub-replicating portfolio\n",
    "res.x"
   ]
  },
  {
   "cell_type": "markdown",
   "id": "bc8f8056",
   "metadata": {},
   "source": [
    "## (f)"
   ]
  },
  {
   "cell_type": "markdown",
   "id": "4c430d36",
   "metadata": {},
   "source": [
    "Now consider the 2 Basket Call Options Y1,Y2 on $S^1$ and $S^2$ with strike $K_1=31$ and $K_2=55$ respectively. The payoff is given by: \n",
    "\\begin{align}\n",
    "\\left(\\frac{(S_1^1+S_1^2)}{2}-K\\right)^+\n",
    "\\end{align}\n",
    "\n",
    "Are these options replicable?"
   ]
  },
  {
   "cell_type": "markdown",
   "id": "320c2ce0",
   "metadata": {},
   "source": [
    "We want to try and solve:\n",
    "\\begin{align}\n",
    "x\\begin{bmatrix}1\\\\1\\\\1\\\\1\\end{bmatrix}+h^1\\begin{bmatrix}7\\\\1\\\\-1\\\\-5\\end{bmatrix}+h^2\\begin{bmatrix}-8\\\\16\\\\4\\\\-20\\end{bmatrix}=\\begin{bmatrix}\\frac{23}{2}\\\\\\frac{41}{2}\\\\\\frac{27}{2}\\\\0\\end{bmatrix}\n",
    "\\end{align}\n",
    "\\begin{align}\n",
    "x\\begin{bmatrix}1\\\\1\\\\1\\\\1\\end{bmatrix}+h^1\\begin{bmatrix}7\\\\1\\\\-1\\\\-5\\end{bmatrix}+h^2\\begin{bmatrix}-8\\\\16\\\\4\\\\-20\\end{bmatrix}=\\begin{bmatrix}0\\\\\\frac{17}{2}\\\\\\frac{3}{2}\\\\0\\end{bmatrix}\n",
    "\\end{align}"
   ]
  },
  {
   "cell_type": "code",
   "execution_count": 9,
   "id": "644e2e38",
   "metadata": {},
   "outputs": [
    {
     "name": "stderr",
     "output_type": "stream",
     "text": [
      "C:\\Users\\david\\AppData\\Local\\Temp\\ipykernel_16692\\1947588041.py:8: OptimizeWarning: A_eq does not appear to be of full row rank. To improve performance, check the problem formulation for redundant equality constraints.\n",
      "  sci.optimize.linprog(c,A_eq=A,b_eq=b,options={\"presolve\" : \"False\"},bounds=[x,h1,h2])\n"
     ]
    },
    {
     "data": {
      "text/plain": [
       "     con: array([11.5, 20.5, 13.5,  0. ])\n",
       "     fun: 0.0\n",
       " message: 'There is a linear combination of rows of A_eq that results in zero, suggesting a redundant constraint. However the same linear combination of b_eq is nonzero, suggesting that the constraints conflict and the problem is infeasible.'\n",
       "     nit: 0\n",
       "   slack: array([], dtype=float64)\n",
       "  status: 2\n",
       " success: False\n",
       "       x: array([0., 0., 0.])"
      ]
     },
     "execution_count": 9,
     "metadata": {},
     "output_type": "execute_result"
    }
   ],
   "source": [
    "#solving the above equation for Y1\n",
    "c=[0,0,0]\n",
    "A=[[1,7,-8],[1,1,16],[1,-1,4],[1,-5,-20]]\n",
    "b=[23/2,41/2,27/2,0]\n",
    "x=[0,None]\n",
    "h1=[None,None]\n",
    "h2=[None,None]\n",
    "sci.optimize.linprog(c,A_eq=A,b_eq=b,options={\"presolve\" : \"False\"},bounds=[x,h1,h2])\n",
    "#We can see this has no solution, so is not replicable"
   ]
  },
  {
   "cell_type": "code",
   "execution_count": 10,
   "id": "72e01471",
   "metadata": {},
   "outputs": [
    {
     "name": "stderr",
     "output_type": "stream",
     "text": [
      "C:\\Users\\david\\AppData\\Local\\Temp\\ipykernel_16692\\3359893751.py:8: OptimizeWarning: A_eq does not appear to be of full row rank. To improve performance, check the problem formulation for redundant equality constraints.\n",
      "  sci.optimize.linprog(c,A_eq=A,b_eq=b,options={\"presolve\" : \"False\"},bounds=[kb,h1,h2])\n"
     ]
    },
    {
     "data": {
      "text/plain": [
       "     con: array([0. , 8.5, 1.5, 0. ])\n",
       "     fun: 0.0\n",
       " message: 'There is a linear combination of rows of A_eq that results in zero, suggesting a redundant constraint. However the same linear combination of b_eq is nonzero, suggesting that the constraints conflict and the problem is infeasible.'\n",
       "     nit: 0\n",
       "   slack: array([], dtype=float64)\n",
       "  status: 2\n",
       " success: False\n",
       "       x: array([0., 0., 0.])"
      ]
     },
     "execution_count": 10,
     "metadata": {},
     "output_type": "execute_result"
    }
   ],
   "source": [
    "#solving the above equation for Y2\n",
    "c=[0,0,0]\n",
    "A=[[1,7,-8],[1,1,16],[1,-1,4],[1,-5,-20]]\n",
    "b=[0,17/2,3/2,0]\n",
    "x=[None,None]\n",
    "h1=[None,None]\n",
    "h2=[None,None]\n",
    "sci.optimize.linprog(c,A_eq=A,b_eq=b,options={\"presolve\" : \"False\"},bounds=[kb,h1,h2])\n",
    "#We can see this has no solution, so is not replicable"
   ]
  },
  {
   "cell_type": "markdown",
   "id": "fe9522af",
   "metadata": {},
   "source": [
    "Neither of these are replicable"
   ]
  },
  {
   "cell_type": "markdown",
   "id": "b86dfea0",
   "metadata": {},
   "source": [
    "## (g)"
   ]
  },
  {
   "cell_type": "markdown",
   "id": "4bf33ed1",
   "metadata": {},
   "source": [
    "Compute the set of Arbitrage Free Prices for $Y_1$"
   ]
  },
  {
   "cell_type": "code",
   "execution_count": 11,
   "id": "68f9d56f",
   "metadata": {},
   "outputs": [
    {
     "name": "stdout",
     "output_type": "stream",
     "text": [
      "U(Y1)= 73/6\n"
     ]
    }
   ],
   "source": [
    "#First find U(x)\n",
    "c=[1,0,0] #finding the minimum value of x satisfying the equations\n",
    "A=np.array([[1,7,-8],[1,1,16],[1,-1,4],[1,-5,-20]])\n",
    "b=np.array([23/2,41/2,27/2,0])\n",
    "x=[None,None]\n",
    "h1=[None,None]\n",
    "h2=[None,None]\n",
    "res=sci.optimize.linprog(c,A_ub=-A,b_ub=-b,options={\"presolve\" : \"False\"},bounds=[kb,h1,h2])\n",
    "#again we want to solve Ax>=b for the super replicating portfolio\n",
    "print(\"U(Y1)=\",Fraction(res.x[0]).limit_denominator())"
   ]
  },
  {
   "cell_type": "code",
   "execution_count": 12,
   "id": "d68727e3",
   "metadata": {},
   "outputs": [
    {
     "name": "stdout",
     "output_type": "stream",
     "text": [
      "289/24\n"
     ]
    }
   ],
   "source": [
    "#Find D(x)\n",
    "c=[-1,0,0] #finding the maximum value of x satisfying the equations\n",
    "A=np.array([[1,7,-8],[1,1,16],[1,-1,4],[1,-5,-20]])\n",
    "b=np.array([23/2,41/2,27/2,0])\n",
    "x=[None,None]\n",
    "h1=[None,None]\n",
    "h2=[None,None]\n",
    "res=sci.optimize.linprog(c,A_ub=A,b_ub=b,options={\"presolve\" : \"False\"},bounds=[x,h1,h2])\n",
    "#Now solve Ax<=b for sub replicating portfolio\n",
    "print(Fraction(res.x[0]).limit_denominator())"
   ]
  },
  {
   "cell_type": "markdown",
   "id": "5933fd2b",
   "metadata": {},
   "source": [
    "So the set of arbitrage free prices is ($12\\frac{1}{24}$,$12\\frac{1}{6}$)\n",
    "\n",
    "## (h)\n",
    "Fix a fair price for $Y_1$ ($\\frac{121}{10}$), then in the expanded market $(B,S^1,S^2,Y^1)$ replicate $Y^2$"
   ]
  },
  {
   "cell_type": "markdown",
   "id": "2cedadcb",
   "metadata": {},
   "source": [
    "The set of equations for $Y^2$ becomes:\n",
    "\\begin{align}\n",
    "x\\begin{bmatrix}1\\\\1\\\\1\\\\1\\end{bmatrix}+h^1\\begin{bmatrix}7\\\\1\\\\-1\\\\-5\\end{bmatrix}+h^2\\begin{bmatrix}-8\\\\16\\\\4\\\\-20\\end{bmatrix}+h^3\\begin{bmatrix}-\\frac{3}{5}\\\\\\frac{42}{5}\\\\\\frac{7}{5}\\\\-\\frac{121}{10}\\end{bmatrix}\n",
    "=\\begin{bmatrix}0\\\\\\frac{17}{2}\\\\\\frac{3}{2}\\\\0\\end{bmatrix}\n",
    "\\end{align}\n",
    "Where the $Y^1_0 = \\frac{121}{10}$"
   ]
  },
  {
   "cell_type": "code",
   "execution_count": 13,
   "id": "260eb10a",
   "metadata": {},
   "outputs": [
    {
     "name": "stdout",
     "output_type": "stream",
     "text": [
      "x= 31/12\n"
     ]
    }
   ],
   "source": [
    "c=[0,0,0,0]\n",
    "A=[[1,7,-8,-3/5],[1,1,16,42/5],[1,-1,4,7/5],[1,-5,-20,-121/10]]\n",
    "b=[0,17/2,3/2,0]\n",
    "x=[None,None]\n",
    "h1=[None,None]\n",
    "h2=[None,None]\n",
    "h3=[None,None]\n",
    "res=sci.optimize.linprog(c,A_eq=A,b_eq=b,options={\"presolve\" : \"False\"},bounds=[x,h1,h2,h3])\n",
    "#now solving Ax=b to see if Y2 is replicable\n",
    "print(\"x=\",Fraction(res.x[0]).limit_denominator())"
   ]
  },
  {
   "cell_type": "markdown",
   "id": "01382c64",
   "metadata": {},
   "source": [
    "Now $Y^2$ is replicable with AFP $\\frac{31}{12}$, would we have been able to achieve the same replicability if we had instead included $X$ in the market?\n",
    "\n",
    "(Ans: No! As $X$ is already replicable by including it we are not changing the dimensionality of our set of equations, so nothing will have changed)"
   ]
  },
  {
   "cell_type": "markdown",
   "id": "5ae83675",
   "metadata": {},
   "source": [
    "# Part 2"
   ]
  },
  {
   "cell_type": "markdown",
   "id": "080cb68d",
   "metadata": {},
   "source": [
    "We no consider the market $(B,S^1)$ involving transaction fees.\n",
    "\n",
    "## (a)\n",
    "What is the new value of our portfolio:\n",
    "\\begin{align}\n",
    "\\bar{V_1}^{x,h}=x+h_1^+(\\frac{S^1_1}{1+r}(1-f)-S_0^1(1+f))\n",
    "-h_1^-(\\frac{S_1^1}{1+r}(1+f)-S_0^1(1-f))\n",
    "\\end{align}"
   ]
  },
  {
   "cell_type": "markdown",
   "id": "562b64b6",
   "metadata": {},
   "source": [
    "This is quite strange as the price of $X$ we found previosuly does not lie within the set of arbitrage free prices. Is there are reason for this?"
   ]
  },
  {
   "cell_type": "markdown",
   "id": "22af223c",
   "metadata": {},
   "source": [
    "## (b)\n",
    "When working in a market involving transaction fees, the notion of a sub-replicating portfolio for a derivative $A$ is substituted by $-U(-A)$ where $U$ denotes the infimum of the super-replicating portfolios.\n",
    "\n",
    "Let $X$ once again be our straddle from question 1(a) and consider the linear programming problem of finding the super-replicating portfolio $U(X)$.\n",
    "    Is this problem feasible?\n",
    "    "
   ]
  },
  {
   "cell_type": "markdown",
   "id": "0fc35139",
   "metadata": {},
   "source": [
    "## (c)"
   ]
  },
  {
   "cell_type": "markdown",
   "id": "9794b17f",
   "metadata": {},
   "source": [
    "Consider the market in which $f=\\frac{1}{4}$. Find the set of AFP for $X$.\n",
    "This can be done by finding $-U(-X)$ and $U(X)$"
   ]
  },
  {
   "cell_type": "code",
   "execution_count": 14,
   "id": "0e78f504",
   "metadata": {},
   "outputs": [
    {
     "data": {
      "text/plain": [
       "6.0"
      ]
     },
     "execution_count": 14,
     "metadata": {},
     "output_type": "execute_result"
    }
   ],
   "source": [
    "#U(x)\n",
    "c=[1,0,0] #finding the minimum value of x satisfying the following equations\n",
    "S1=np.array([36,24,20,12])\n",
    "S2=np.array([72,120,96,48])\n",
    "f=1/4\n",
    "buyS1=S1/2*(1-f)-11*(1+f)\n",
    "sellS1=S1/2*(1+f)-11*(1-f)\n",
    "A=np.array([[1,1,1,1],buyS1,-sellS1]).T\n",
    "b=np.array([6,0,2,6])\n",
    "#bounds on the portfolio\n",
    "hx=[None,None]\n",
    "h1=[0,None]\n",
    "h2=[0,None]\n",
    "#h3=[0,None]\n",
    "#h4=[0,None]\n",
    "res=sci.optimize.linprog(c,A_ub=-A,b_ub=-b,options={\"presolve\" : \"False\"},bounds=[hx,h1,h2])\n",
    "#solving Ax>=b for super replicating portfolio\n",
    "round(res.x[0],5)"
   ]
  },
  {
   "cell_type": "code",
   "execution_count": 15,
   "id": "ea851dff",
   "metadata": {},
   "outputs": [
    {
     "data": {
      "text/plain": [
       "0"
      ]
     },
     "execution_count": 15,
     "metadata": {},
     "output_type": "execute_result"
    }
   ],
   "source": [
    "#-U(-x)\n",
    "c=[1,0,0] #finding the minimum value of x satisfying the following equations\n",
    "S1=np.array([36,24,20,12])\n",
    "S2=np.array([72,120,96,48])\n",
    "f=1/4\n",
    "buyS1=S1/2*(1-f)-11*(1+f)\n",
    "sellS1=S1/2*(1+f)-11*(1-f)\n",
    "A=np.array([[1,1,1,1],buyS1,-sellS1]).T\n",
    "b=np.array([6,0,2,6])\n",
    "#bounds on the portfolio\n",
    "hx=[None,None]\n",
    "h1=[0,None]\n",
    "h2=[0,None]\n",
    "res=sci.optimize.linprog(c,A_ub=-A,b_ub=b,options={\"presolve\" : \"False\"},bounds=[hx,h1,h2])\n",
    "#solving Ax>=b for super replicating portfolio\n",
    "round(-res.x[0])"
   ]
  },
  {
   "cell_type": "markdown",
   "id": "1dcf8dc6",
   "metadata": {},
   "source": [
    "## (d)\n",
    "Similar to the solution for 2(b), since the payoff of the derivative is finite and the largest present value of the payoff is $6$, by buying at-least $6$ bonds we are guaranteed to super replicate the derivative. Intuitively, we can see that after including fees, it is now more costly to use shares to replicate the derivative and so the optimal solution uses only bonds."
   ]
  }
 ],
 "metadata": {
  "kernelspec": {
   "display_name": "Python 3 (ipykernel)",
   "language": "python",
   "name": "python3"
  },
  "language_info": {
   "codemirror_mode": {
    "name": "ipython",
    "version": 3
   },
   "file_extension": ".py",
   "mimetype": "text/x-python",
   "name": "python",
   "nbconvert_exporter": "python",
   "pygments_lexer": "ipython3",
   "version": "3.9.12"
  }
 },
 "nbformat": 4,
 "nbformat_minor": 5
}
