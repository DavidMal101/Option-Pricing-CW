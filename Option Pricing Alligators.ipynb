{
 "cells": [
  {
   "cell_type": "code",
   "execution_count": 7,
   "id": "4f2f13af",
   "metadata": {},
   "outputs": [],
   "source": [
    "import scipy as sci\n",
    "import scipy.optimize\n",
    "import numpy as np\n",
    "from fractions import Fraction\n",
    "import matplotlib.pyplot as plt"
   ]
  },
  {
   "cell_type": "markdown",
   "id": "e797e183",
   "metadata": {},
   "source": [
    "# Part 1"
   ]
  },
  {
   "cell_type": "markdown",
   "id": "4b9f21c7",
   "metadata": {},
   "source": [
    "Consider first the Market (B,S1,S2) given by:\n",
    "\\begin{align}\n",
    "S_1^1=\\begin{bmatrix}36\\\\24\\\\20\\\\12\\end{bmatrix},S_1^2=\\begin{bmatrix}72\\\\120\\\\96\\\\48\\end{bmatrix}, B_1=(1+r)\n",
    "\\end{align}\n",
    "Where:\n",
    "\\begin{align}\n",
    "S_0^1=11, S_0^2=44, r=1\n",
    "\\end{align}\n",
    "\n",
    "With probabilities:\n",
    "\\begin{align}\n",
    "Q=[1/6,1/6,1/2,1/6]\n",
    "\\end{align}\n"
   ]
  },
  {
   "cell_type": "markdown",
   "id": "c1dcf859",
   "metadata": {},
   "source": [
    "## (i)"
   ]
  },
  {
   "cell_type": "markdown",
   "id": "dc7b27c9",
   "metadata": {},
   "source": [
    "Consider now the straddle option on $S^1$ with strike $K=24$, which has payoff:\n",
    "\\begin{align}\n",
    "X_1=(S_1^1-24)^++(24-S1_1^1)^+ =\\begin{bmatrix}12\\\\0\\\\4\\\\12\\end{bmatrix}\n",
    "\\end{align}\n",
    "\n",
    "Briefly consider the reduced market of $(B,S^1)$ show that $X$ is irreplicable and becomes replicable when we include $S^2$ in the market\n"
   ]
  },
  {
   "cell_type": "code",
   "execution_count": 2,
   "id": "a1ba61b3",
   "metadata": {},
   "outputs": [
    {
     "name": "stderr",
     "output_type": "stream",
     "text": [
      "<ipython-input-2-7042de567343>:7: OptimizeWarning: A_eq does not appear to be of full row rank. To improve performance, check the problem formulation for redundant equality constraints.\n",
      "  sci.optimize.linprog(c,A_eq=A,b_eq=b,options={\"presolve\" : \"False\"},bounds=[x,h1])\n"
     ]
    },
    {
     "data": {
      "text/plain": [
       "     con: array([6., 0., 2., 6.])\n",
       "     fun: 0.0\n",
       " message: 'There is a linear combination of rows of A_eq that results in zero, suggesting a redundant constraint. However the same linear combination of b_eq is nonzero, suggesting that the constraints conflict and the problem is infeasible.'\n",
       "     nit: 0\n",
       "   slack: array([], dtype=float64)\n",
       "  status: 2\n",
       " success: False\n",
       "       x: array([0., 0.])"
      ]
     },
     "execution_count": 2,
     "metadata": {},
     "output_type": "execute_result"
    }
   ],
   "source": [
    "#set up our linear programme\n",
    "c=[0,0] #vector of coefficients for the linear function to be minimised\n",
    "A=[[1,7],[1,1],[1,-1],[1,-5]] #matrix of coefficients of each linear inequality\n",
    "b=[6,0,2,6] # vector of right hand side inequality values\n",
    "x=[0,None] # bounds on initial capital\n",
    "h1=[None,None] # bounds on amount of S1\n",
    "sci.optimize.linprog(c,A_eq=A,b_eq=b,options={\"presolve\" : \"False\"},bounds=[x,h1])"
   ]
  },
  {
   "cell_type": "markdown",
   "id": "eb64cb3c",
   "metadata": {},
   "source": [
    "We see that the problem is infeasible, so $X$ can not be replicated"
   ]
  },
  {
   "cell_type": "markdown",
   "id": "3a3ecffb",
   "metadata": {},
   "source": [
    "## (ii)"
   ]
  },
  {
   "cell_type": "markdown",
   "id": "24ed7474",
   "metadata": {},
   "source": [
    "If we now consider the full market that includes $S^2$, is such a market free of arbitrage?"
   ]
  },
  {
   "cell_type": "code",
   "execution_count": 3,
   "id": "092b3fa5",
   "metadata": {},
   "outputs": [
    {
     "name": "stdout",
     "output_type": "stream",
     "text": [
      "True\n",
      "True\n"
     ]
    }
   ],
   "source": [
    "s11=[36,24,20,12]\n",
    "s12=[72,120,96,48]\n",
    "s01=11\n",
    "s02=44\n",
    "r=1\n",
    "#find u and d for each underlying\n",
    "u1=np.max(s11)/s01\n",
    "d1=np.min(s11)/s01\n",
    "u2=np.max(s12)/s02\n",
    "d2=np.min(s12)/s02\n",
    "#Check if the 1+r lies between d and u\n",
    "print(d1<(1+r)<u1)\n",
    "print(d2<(1+r)<u2)"
   ]
  },
  {
   "cell_type": "markdown",
   "id": "e82d9041",
   "metadata": {},
   "source": [
    "We can also find the set of Equivalent Martingale measures as\n",
    "\\begin{align}\n",
    "Q=\\begin{bmatrix}1/6\\\\\\frac{1}{2}-\\frac{2}{3}t\\\\t\\\\\\frac{1-t}{3}\\end{bmatrix}, t\\in (0,\\frac{3}{4})\n",
    "\\end{align}\n",
    "We can see then that the set of equivalent martingale measures is not a null set, so there is no arbitrage"
   ]
  },
  {
   "cell_type": "markdown",
   "id": "f779123f",
   "metadata": {},
   "source": [
    "This is found by solving:\n",
    "\\begin{align}\n",
    "q_1\\frac{36}{2}+q_2\\frac{24}{2}+q_3\\frac{20}{2}+q_4\\frac{12}{2}=11 \\\\\n",
    "q_1\\frac{72}{2}+q_2\\frac{120}{2}+q_3\\frac{96}{2}+q_4\\frac{48}{2}=44 \\\\\n",
    "q_1+q_2+q_3+q_4=1\n",
    "\\end{align}"
   ]
  },
  {
   "cell_type": "code",
   "execution_count": 20,
   "id": "408d8dad",
   "metadata": {},
   "outputs": [
    {
     "name": "stdout",
     "output_type": "stream",
     "text": [
      "Lower bound of q1 1/6\n",
      "Upper bound of q1 1/6\n",
      "Lower bound of q2 0\n",
      "Upper bound of q2 1/2\n",
      "Lower bound of q3 0\n",
      "Upper bound of q3 3/4\n",
      "Lower bound of q4 1/12\n",
      "Upper bound of q4 1/3\n"
     ]
    }
   ],
   "source": [
    "#Implementing the above equations as Ax=b\n",
    "A=np.array([[18,12,10,6],[36,60,48,24],[1,1,1,1]])\n",
    "b=np.array([11,44,1])\n",
    "#The bounds on each qi\n",
    "q1=[0,1]\n",
    "q2=[0,1]\n",
    "q3=[0,1]\n",
    "q4=[0,1]\n",
    "\n",
    "for i in range(0,4):\n",
    "    #at each point we find the maximal and minimal values of each qi that satisfies the equations\n",
    "    qi=np.zeros(4)\n",
    "    qi[i]=1\n",
    "    print(\"Lower bound of q%s\"%(i+1),Fraction(sci.optimize.linprog(qi,A_eq=A,b_eq=b,options={\"presolve\" : \"False\"},bounds=[q1,q2,q3,q4]).x[i]).limit_denominator())\n",
    "    print(\"Upper bound of q%s\"%(i+1),Fraction(sci.optimize.linprog(-qi,A_eq=-A,b_eq=-b,options={\"presolve\" : \"False\"},bounds=[q1,q2,q3,q4]).x[i]).limit_denominator())"
   ]
  },
  {
   "cell_type": "markdown",
   "id": "d47e9696",
   "metadata": {},
   "source": [
    "This confirms the above calculation"
   ]
  },
  {
   "cell_type": "markdown",
   "id": "692a09a3",
   "metadata": {},
   "source": [
    "## (iii)"
   ]
  },
  {
   "cell_type": "markdown",
   "id": "32a3cc93",
   "metadata": {},
   "source": [
    "In this market is the straddle $X$ given above replicable, if so what is it's arbitrage free price?\n",
    "In other words we want to solve:\n",
    "\n",
    "\\begin{align}\n",
    "x\\begin{bmatrix}1\\\\1\\\\1\\\\1\\end{bmatrix}+h^1\\begin{bmatrix}\\frac{36}{2}-11\\\\\\frac{24}{2}-11\\\\\\frac{20}{2}-11\\\\\\frac{12}{2}-11\\end{bmatrix}+h^2\\begin{bmatrix}\\frac{72}{2}-44\\\\\\frac{120}{2}-44\\\\\\frac{96}{2}-44\\\\\\frac{48}{2}-44\\end{bmatrix}=\\begin{bmatrix}\\frac{12}{2}\\\\0\\\\\\frac{4}{2}\\\\\\frac{12}{2}\\end{bmatrix}\n",
    "\\end{align}\n",
    "\n",
    "\\begin{align}\n",
    "=x\\begin{bmatrix}1\\\\1\\\\1\\\\1\\end{bmatrix}+h^1\\begin{bmatrix}7\\\\1\\\\-1\\\\-5\\end{bmatrix}+h^2\\begin{bmatrix}-8\\\\16\\\\4\\\\-20\\end{bmatrix}=\\begin{bmatrix}6\\\\0\\\\2\\\\6\\end{bmatrix}\n",
    "\\end{align}"
   ]
  },
  {
   "cell_type": "code",
   "execution_count": 26,
   "id": "ab382057",
   "metadata": {},
   "outputs": [
    {
     "name": "stdout",
     "output_type": "stream",
     "text": [
      "[ 3.   0.2 -0.2]\n"
     ]
    },
    {
     "name": "stderr",
     "output_type": "stream",
     "text": [
      "<ipython-input-26-764c1122b049>:9: OptimizeWarning: A_eq does not appear to be of full row rank. To improve performance, check the problem formulation for redundant equality constraints.\n",
      "  res=sci.optimize.linprog(c,A_eq=A,b_eq=b,options={\"presolve\" : \"False\"},bounds=[x,h1,h2])\n"
     ]
    }
   ],
   "source": [
    "#Set up the set of equations for the straddle option as Ax=b\n",
    "c=[0,0,0] # consider the equality so no function is minimised\n",
    "A=[[1,7,-8],[1,1,16],[1,-1,4],[1,-5,-20]] #coefficients of x,h1,h2\n",
    "b=[6,0,2,6] #right hand side of equations\n",
    "#bounds\n",
    "x=[None,None]\n",
    "h1=[None,None]\n",
    "h2=[None,None]\n",
    "res=sci.optimize.linprog(c,A_eq=A,b_eq=b,options={\"presolve\" : \"False\"},bounds=[x,h1,h2])\n",
    "print(res.x)"
   ]
  },
  {
   "cell_type": "markdown",
   "id": "961859e1",
   "metadata": {},
   "source": [
    "We can see here that the portfolio $[3,0.2,-0.2]$ replicates $X$ and the arbitrage free price of $X$ is $3$"
   ]
  },
  {
   "cell_type": "markdown",
   "id": "7cd0cd0e",
   "metadata": {},
   "source": [
    "This can also be solved by showing $U(X)$=$D(X)$"
   ]
  },
  {
   "cell_type": "code",
   "execution_count": 31,
   "id": "0c80ca12",
   "metadata": {},
   "outputs": [
    {
     "data": {
      "text/plain": [
       "array([ 3. ,  0.2, -0.2])"
      ]
     },
     "execution_count": 31,
     "metadata": {},
     "output_type": "execute_result"
    }
   ],
   "source": [
    "#U(X)\n",
    "c=[1,0,0] #minimise x in (x,h1,h2) for super-replicating portfolios\n",
    "A=np.array([[1,7,-8],[1,1,16],[1,-1,4],[1,-5,-20]])\n",
    "b=np.array([6,0,2,6])\n",
    "x=[0,None]\n",
    "h1=[None,None]\n",
    "h2=[None,None]\n",
    "sci.optimize.linprog(c,A_ub=-A,b_ub=-b,options={\"presolve\" : \"False\"},bounds=[x,h1,h2])\n",
    "#here we use -A and -b as the function uses \"-Ax<=-b\" ie \"Ax>=b\" which is what we want \n",
    "res.x"
   ]
  },
  {
   "cell_type": "code",
   "execution_count": 32,
   "id": "e49b9c67",
   "metadata": {},
   "outputs": [
    {
     "data": {
      "text/plain": [
       "array([ 3. ,  0.2, -0.2])"
      ]
     },
     "execution_count": 32,
     "metadata": {},
     "output_type": "execute_result"
    }
   ],
   "source": [
    "#Repeat for D(x) now\n",
    "c=[-1,0,0] #maximise x in (x,h1,h2) for super-replicating portfolios\n",
    "A=np.array([[1,7,-8],[1,1,16],[1,-1,4],[1,-5,-20]]) #set of values of (x(w),s1(w),s2(w))\n",
    "b=np.array([6,0,2,6])\n",
    "kb=[0,None]\n",
    "h1=[None,None]\n",
    "h2=[None,None]\n",
    "res=sci.optimize.linprog(c,A_ub=A,b_ub=b,options={\"presolve\" : \"False\"},bounds=[kb,h1,h2])\n",
    "#solving Ax<=b now for sub-replicating portfolio\n",
    "res.x"
   ]
  },
  {
   "cell_type": "markdown",
   "id": "55c07af8",
   "metadata": {},
   "source": [
    "## (iv)"
   ]
  },
  {
   "cell_type": "markdown",
   "id": "c039b3a5",
   "metadata": {},
   "source": [
    "Is the market complete?\n",
    "\n",
    "No as we saw above the Equivalent Martingale Measure is not unique, more generally the vector space given by\n",
    "\\begin{align}\n",
    "\\begin{bmatrix}1\\\\1\\\\1\\\\1\\end{bmatrix},\\begin{bmatrix}7\\\\1\\\\-1\\\\-5\\end{bmatrix},\\begin{bmatrix}-8\\\\16\\\\4\\\\-20\\end{bmatrix}\n",
    "\\end{align}\n",
    "does not span $\\mathbb{R}^4$, the set containing all possible derivative payoffs, so not all equations are guaranteed to have a solution, hence not all derivatives can be replicated and the market is incomplete."
   ]
  },
  {
   "cell_type": "markdown",
   "id": "b4e22578",
   "metadata": {},
   "source": [
    "## (v)"
   ]
  },
  {
   "cell_type": "markdown",
   "id": "e05e6845",
   "metadata": {},
   "source": [
    "Now consider the Basket Call Option Y on $S^1$ and $S^2$ with strike $K=24$ The payoff is given by: \n",
    "\\begin{align}\n",
    "\\left(\\frac{(S_1^1+S_1^2)}{2}-K\\right)^+\n",
    "\\end{align}\n",
    "\n",
    "What is the set of arbitrage free prices of $Y$?"
   ]
  },
  {
   "cell_type": "markdown",
   "id": "df39757c",
   "metadata": {},
   "source": [
    "Y has payoffs:\n",
    "\\begin{align}\n",
    "\\begin{bmatrix}\n",
    "\\frac{36+72}{2}-24\\\\\\frac{24+120}{2}-24\\\\\\frac{20+96}{2}-24\\\\\\frac{12+48}{2}-24\n",
    "\\end{bmatrix}\n",
    "\\end{align}\n",
    "So solve:\n",
    "\\begin{align}\n",
    "x\\begin{bmatrix}1\\\\1\\\\1\\\\1\\end{bmatrix}+h^1\\begin{bmatrix}7\\\\1\\\\-1\\\\-5\\end{bmatrix}+h^2\\begin{bmatrix}-8\\\\16\\\\4\\\\-20\\end{bmatrix}=\\begin{bmatrix}\\frac{30}{2}\\\\\\frac{48}{2}\\\\\\frac{34}{2}\\\\\\frac{6}{2}\\end{bmatrix}\n",
    "\\end{align}"
   ]
  },
  {
   "cell_type": "code",
   "execution_count": 48,
   "id": "77f18924",
   "metadata": {},
   "outputs": [
    {
     "name": "stdout",
     "output_type": "stream",
     "text": [
      "x= 31/2\n",
      "h1= 1/2\n",
      "h2= 1/2\n"
     ]
    },
    {
     "name": "stderr",
     "output_type": "stream",
     "text": [
      "<ipython-input-48-4819159f13f3>:8: OptimizeWarning: A_eq does not appear to be of full row rank. To improve performance, check the problem formulation for redundant equality constraints.\n",
      "  res=sci.optimize.linprog(c,A_eq=A,b_eq=b,options={\"presolve\" : \"False\"},bounds=[x,h1,h2])\n"
     ]
    }
   ],
   "source": [
    "#solving the above equation for Y1\n",
    "c=[0,0,0]\n",
    "A=[[1,7,-8],[1,1,16],[1,-1,4],[1,-5,-20]]\n",
    "b=[15,24,17,3]\n",
    "x=[0,None]\n",
    "h1=[None,None]\n",
    "h2=[None,None]\n",
    "res=sci.optimize.linprog(c,A_eq=A,b_eq=b,options={\"presolve\" : \"False\"},bounds=[x,h1,h2])\n",
    "print(\"x=\",Fraction(res.x[0]).limit_denominator())\n",
    "print(\"h1=\",Fraction(res.x[1]).limit_denominator())\n",
    "print(\"h2=\",Fraction(res.x[2]).limit_denominator())"
   ]
  },
  {
   "cell_type": "markdown",
   "id": "74ad95d6",
   "metadata": {},
   "source": [
    "So the arbitrage free price of $Y$ is $\\frac{31}{2}$, as $Y$ is replicable the set of arbitrage free prices collapses to a singleton"
   ]
  },
  {
   "cell_type": "markdown",
   "id": "2ebc1c49",
   "metadata": {},
   "source": [
    "## (vi)"
   ]
  },
  {
   "cell_type": "markdown",
   "id": "73e2022a",
   "metadata": {},
   "source": [
    "Now consider the 2 Basket Call Options Y1,Y2 on $S^1$ and $S^2$ with strike $K_1=31$ and $K_2=55$ respectively. The payoff is given by: \n",
    "\\begin{align}\n",
    "\\left(\\frac{(S_1^1+S_1^2)}{2}-K\\right)^+\n",
    "\\end{align}\n",
    "\n",
    "Are these options replicable?"
   ]
  },
  {
   "cell_type": "markdown",
   "id": "c07706c6",
   "metadata": {},
   "source": [
    "We want to try and solve:\n",
    "\\begin{align}\n",
    "x\\begin{bmatrix}1\\\\1\\\\1\\\\1\\end{bmatrix}+h^1\\begin{bmatrix}7\\\\1\\\\-1\\\\-5\\end{bmatrix}+h^2\\begin{bmatrix}-8\\\\16\\\\4\\\\-20\\end{bmatrix}=\\begin{bmatrix}\\frac{23}{2}\\\\\\frac{41}{2}\\\\\\frac{27}{2}\\\\0\\end{bmatrix}\n",
    "\\end{align}\n",
    "\\begin{align}\n",
    "x\\begin{bmatrix}1\\\\1\\\\1\\\\1\\end{bmatrix}+h^1\\begin{bmatrix}7\\\\1\\\\-1\\\\-5\\end{bmatrix}+h^2\\begin{bmatrix}-8\\\\16\\\\4\\\\-20\\end{bmatrix}=\\begin{bmatrix}0\\\\\\frac{17}{2}\\\\\\frac{3}{2}\\\\0\\end{bmatrix}\n",
    "\\end{align}"
   ]
  },
  {
   "cell_type": "code",
   "execution_count": 51,
   "id": "7510539b",
   "metadata": {},
   "outputs": [
    {
     "name": "stderr",
     "output_type": "stream",
     "text": [
      "<ipython-input-51-646112fdc3f4>:8: OptimizeWarning: A_eq does not appear to be of full row rank. To improve performance, check the problem formulation for redundant equality constraints.\n",
      "  sci.optimize.linprog(c,A_eq=A,b_eq=b,options={\"presolve\" : \"False\"},bounds=[x,h1,h2])\n"
     ]
    },
    {
     "data": {
      "text/plain": [
       "     con: array([11.5, 20.5, 13.5,  0. ])\n",
       "     fun: 0.0\n",
       " message: 'There is a linear combination of rows of A_eq that results in zero, suggesting a redundant constraint. However the same linear combination of b_eq is nonzero, suggesting that the constraints conflict and the problem is infeasible.'\n",
       "     nit: 0\n",
       "   slack: array([], dtype=float64)\n",
       "  status: 2\n",
       " success: False\n",
       "       x: array([0., 0., 0.])"
      ]
     },
     "execution_count": 51,
     "metadata": {},
     "output_type": "execute_result"
    }
   ],
   "source": [
    "#solving the above equation for Y1\n",
    "c=[0,0,0]\n",
    "A=[[1,7,-8],[1,1,16],[1,-1,4],[1,-5,-20]]\n",
    "b=[23/2,41/2,27/2,0]\n",
    "x=[0,None]\n",
    "h1=[None,None]\n",
    "h2=[None,None]\n",
    "sci.optimize.linprog(c,A_eq=A,b_eq=b,options={\"presolve\" : \"False\"},bounds=[x,h1,h2])\n",
    "#We can see this has no solution, so is not replicable"
   ]
  },
  {
   "cell_type": "code",
   "execution_count": 54,
   "id": "3d003a80",
   "metadata": {},
   "outputs": [
    {
     "name": "stderr",
     "output_type": "stream",
     "text": [
      "<ipython-input-54-a99c6906ac83>:8: OptimizeWarning: A_eq does not appear to be of full row rank. To improve performance, check the problem formulation for redundant equality constraints.\n",
      "  sci.optimize.linprog(c,A_eq=A,b_eq=b,options={\"presolve\" : \"False\"},bounds=[kb,h1,h2])\n"
     ]
    },
    {
     "data": {
      "text/plain": [
       "     con: array([0. , 8.5, 1.5, 0. ])\n",
       "     fun: 0.0\n",
       " message: 'There is a linear combination of rows of A_eq that results in zero, suggesting a redundant constraint. However the same linear combination of b_eq is nonzero, suggesting that the constraints conflict and the problem is infeasible.'\n",
       "     nit: 0\n",
       "   slack: array([], dtype=float64)\n",
       "  status: 2\n",
       " success: False\n",
       "       x: array([0., 0., 0.])"
      ]
     },
     "execution_count": 54,
     "metadata": {},
     "output_type": "execute_result"
    }
   ],
   "source": [
    "#solving the above equation for Y2\n",
    "c=[0,0,0]\n",
    "A=[[1,7,-8],[1,1,16],[1,-1,4],[1,-5,-20]]\n",
    "b=[0,17/2,3/2,0]\n",
    "x=[None,None]\n",
    "h1=[None,None]\n",
    "h2=[None,None]\n",
    "sci.optimize.linprog(c,A_eq=A,b_eq=b,options={\"presolve\" : \"False\"},bounds=[kb,h1,h2])\n",
    "#We can see this has no solution, so is not replicable"
   ]
  },
  {
   "cell_type": "markdown",
   "id": "c9a06821",
   "metadata": {},
   "source": [
    "Neither of these are replicable"
   ]
  },
  {
   "cell_type": "markdown",
   "id": "a125e9fc",
   "metadata": {},
   "source": [
    "## (vii)"
   ]
  },
  {
   "cell_type": "markdown",
   "id": "f92bb216",
   "metadata": {},
   "source": [
    "Compute the set of Arbitrage Free Prices for $Y_1$"
   ]
  },
  {
   "cell_type": "code",
   "execution_count": 59,
   "id": "d86940c4",
   "metadata": {},
   "outputs": [
    {
     "name": "stdout",
     "output_type": "stream",
     "text": [
      "U(Y1)= 73/6\n"
     ]
    }
   ],
   "source": [
    "#First find U(x)\n",
    "c=[1,0,0] #finding the minimum value of x satisfying the equations\n",
    "A=np.array([[1,7,-8],[1,1,16],[1,-1,4],[1,-5,-20]])\n",
    "b=np.array([23/2,41/2,27/2,0])\n",
    "x=[None,None]\n",
    "h1=[None,None]\n",
    "h2=[None,None]\n",
    "res=sci.optimize.linprog(c,A_ub=-A,b_ub=-b,options={\"presolve\" : \"False\"},bounds=[kb,h1,h2])\n",
    "#again we want to solve Ax>=b for the super replicating portfolio\n",
    "print(\"U(Y1)=\",Fraction(res.x[0]).limit_denominator())"
   ]
  },
  {
   "cell_type": "code",
   "execution_count": 61,
   "id": "c7e79b78",
   "metadata": {},
   "outputs": [
    {
     "name": "stdout",
     "output_type": "stream",
     "text": [
      "289/24\n"
     ]
    }
   ],
   "source": [
    "#Find D(x)\n",
    "c=[-1,0,0] #finding the maximum value of x satisfying the equations\n",
    "A=np.array([[1,7,-8],[1,1,16],[1,-1,4],[1,-5,-20]])\n",
    "b=np.array([23/2,41/2,27/2,0])\n",
    "x=[None,None]\n",
    "h1=[None,None]\n",
    "h2=[None,None]\n",
    "res=sci.optimize.linprog(c,A_ub=A,b_ub=b,options={\"presolve\" : \"False\"},bounds=[x,h1,h2])\n",
    "#Now solve Ax<=b for sub replicating portfolio\n",
    "print(Fraction(res.x[0]).limit_denominator())"
   ]
  },
  {
   "cell_type": "markdown",
   "id": "7906bc04",
   "metadata": {},
   "source": [
    "So the set of arbitrage free prices is ($12\\frac{1}{24}$,$12\\frac{1}{6}$)\n",
    "\n",
    "### (vi)\n",
    "Fix a fair price for $Y_1$ ($\\frac{121}{10}$), then in the expanded market $(B,S^1,S^2,Y^1)$ replicate $Y^2$"
   ]
  },
  {
   "cell_type": "markdown",
   "id": "24e18aed",
   "metadata": {},
   "source": [
    "The set of equations for $Y^2$ becomes:\n",
    "\\begin{align}\n",
    "x\\begin{bmatrix}1\\\\1\\\\1\\\\1\\end{bmatrix}+h^1\\begin{bmatrix}7\\\\1\\\\-1\\\\-5\\end{bmatrix}+h^2\\begin{bmatrix}-8\\\\16\\\\4\\\\-20\\end{bmatrix}+h^3\\begin{bmatrix}-\\frac{3}{5}\\\\\\frac{42}{5}\\\\\\frac{7}{5}\\\\-\\frac{121}{10}\\end{bmatrix}\n",
    "=\\begin{bmatrix}0\\\\\\frac{17}{2}\\\\\\frac{3}{2}\\\\0\\end{bmatrix}\n",
    "\\end{align}\n",
    "Where the $Y^1_0 = \\frac{121}{10}$"
   ]
  },
  {
   "cell_type": "code",
   "execution_count": 64,
   "id": "65d94a9f",
   "metadata": {},
   "outputs": [
    {
     "name": "stdout",
     "output_type": "stream",
     "text": [
      "x= 31/12\n"
     ]
    }
   ],
   "source": [
    "c=[0,0,0,0]\n",
    "A=[[1,7,-8,-3/5],[1,1,16,42/5],[1,-1,4,7/5],[1,-5,-20,-121/10]]\n",
    "b=[0,17/2,3/2,0]\n",
    "x=[None,None]\n",
    "h1=[None,None]\n",
    "h2=[None,None]\n",
    "h3=[None,None]\n",
    "res=sci.optimize.linprog(c,A_eq=A,b_eq=b,options={\"presolve\" : \"False\"},bounds=[x,h1,h2,h3])\n",
    "#now solving Ax=b to see if Y2 is replicable\n",
    "print(\"x=\",Fraction(res.x[0]).limit_denominator())"
   ]
  },
  {
   "cell_type": "markdown",
   "id": "a6fe0caa",
   "metadata": {},
   "source": [
    "Now $Y^2$ is replicable with AFP $\\frac{31}{12}$, would we have been able to achieve the same replicability if we had instead included $X$ in the market?\n",
    "\n",
    "(Ans: No! As $X$ is already replicable by including it we are not changing the dimensionality of our set of equations, so nothing will have changed)"
   ]
  },
  {
   "cell_type": "markdown",
   "id": "256660cf",
   "metadata": {},
   "source": [
    "# Part 2"
   ]
  },
  {
   "cell_type": "markdown",
   "id": "4e24ff32",
   "metadata": {},
   "source": [
    "The value of our portfolio for a given transaction fee $\\gamma$ becomes:\n",
    "\\begin{align}\n",
    "\\bar{V_1}^{x,h}=x+h_1^+(\\frac{S^1_1}{1+r}(1-\\gamma_1)-S_0^1(1+\\gamma_1))\n",
    "-h_1^-(\\frac{S_1^1}{1+r}(1+\\gamma_1)-S_0^1(1-\\gamma_1))+h_2^+(\\frac{S^2_1}{1+r}(1-\\gamma_2)-S^2_0(1+\\gamma_2))-h_2^-(\\frac{S_1^2}{1+r}(1+\\gamma_2)-S_0^2(1-\\gamma_2))\n",
    "\\end{align}"
   ]
  },
  {
   "cell_type": "markdown",
   "id": "6ba2845c",
   "metadata": {},
   "source": [
    "## (i)\n",
    "If we choose $\\gamma_1=0$ and $\\gamma_2=\\frac{2}{5}$, is the market free of arbitrage?"
   ]
  },
  {
   "cell_type": "code",
   "execution_count": 68,
   "id": "b48c97d1",
   "metadata": {},
   "outputs": [
    {
     "name": "stdout",
     "output_type": "stream",
     "text": [
      "     con: array([], dtype=float64)\n",
      "     fun: 0.0\n",
      " message: 'The algorithm terminated successfully and determined that the problem is infeasible.'\n",
      "     nit: 5\n",
      "   slack: array([13887.92390466,  1971.29247956, -1997.68465457, -9935.63916698])\n",
      "  status: 2\n",
      " success: False\n",
      "       x: array([1.30743426e+12, 1.30743426e+12, 1.49447507e-01, 1.79516673e-01])\n",
      "13887.924637078235\n",
      "1971.2924795626725\n",
      "-1997.684654570171\n",
      "-9935.639411117107\n"
     ]
    }
   ],
   "source": [
    "c=[0,0,0,0] #We are checking if the value of the portfolio is greater than 0, so no need to minimise any function\n",
    "S1=np.array([36,24,20,12])\n",
    "S2=np.array([72,120,96,48])\n",
    "gamma1=0\n",
    "gamma2=2/5\n",
    "#set up the coefficients of h1+,h1-,h2+,h2-\n",
    "buyS1=S1/2*(1-gamma1)-11*(1+gamma1)\n",
    "sellS1=S1/2*(1+gamma1)-11*(1-gamma1)\n",
    "buyS2=S2/2*(1-gamma2)-44*(1+gamma2)\n",
    "sellS2=S2/2*(1+gamma2)-44*(1-gamma2)\n",
    "#when checking for arbitrage we assume 0 initial capital, so x=0 at all points\n",
    "A=np.array([buyS1,-sellS1,buyS2,-sellS2]).T\n",
    "b=np.array([0,0,0,0])\n",
    "#here we set the bounds to be just above 0\n",
    "#this is to prevent the algorithm from selecting the 0-portfolio\n",
    "h1=[0.01,None]\n",
    "h2=[0.01,None]\n",
    "h3=[0.01,None]\n",
    "h4=[0.01,None]\n",
    "res=sci.optimize.linprog(c,A_ub=-A,b_ub=-b,options={\"presolve\" : \"False\"},bounds=[h1,h2,h3,h4])\n",
    "#solving Ax>=0\n",
    "print(res)\n",
    "print(sum(A[0]*res.x))\n",
    "print(sum(A[1]*res.x))\n",
    "print(sum(A[2]*res.x))\n",
    "print(sum(A[3]*res.x))"
   ]
  },
  {
   "cell_type": "markdown",
   "id": "58d6dfd6",
   "metadata": {},
   "source": [
    "The alogrithm determines that the problem is infeasible, in other words the only portfolio that always has value atleast greater than or equal to $0$ is the zero-portfolio, in which case all inequalities become equalities.\n",
    "\n",
    "So there is no arbitrage in the market."
   ]
  },
  {
   "cell_type": "markdown",
   "id": "a4d6ee28",
   "metadata": {},
   "source": [
    "## (ii)\n",
    "What is the arbitrage free price of the straddle $X$ given previously"
   ]
  },
  {
   "cell_type": "code",
   "execution_count": 73,
   "id": "52ebed34",
   "metadata": {},
   "outputs": [
    {
     "name": "stdout",
     "output_type": "stream",
     "text": [
      "x= 2110261/257367 which roughly equals 8.199\n"
     ]
    },
    {
     "name": "stderr",
     "output_type": "stream",
     "text": [
      "<ipython-input-73-ac09009fce85>:17: OptimizeWarning: A_eq does not appear to be of full row rank. To improve performance, check the problem formulation for redundant equality constraints.\n",
      "  res=sci.optimize.linprog(c,A_eq=A,b_eq=b,options={\"presolve\" : \"False\"},bounds=[hx,h1,h2,h3,h4])\n"
     ]
    }
   ],
   "source": [
    "c=[0,0,0,0,0]\n",
    "S1=np.array([36,24,20,12])\n",
    "S2=np.array([72,120,96,48])\n",
    "gamma1=0\n",
    "gamma2=2/5\n",
    "buyS1=S1/2*(1-gamma1)-11*(1+gamma1)\n",
    "sellS1=S1/2*(1+gamma1)-11*(1-gamma1)\n",
    "buyS2=S2/2*(1-gamma2)-44*(1+gamma2)\n",
    "sellS2=S2/2*(1+gamma2)-44*(1-gamma2)\n",
    "A=np.array([[1,1,1,1],buyS1,-sellS1,buyS2,-sellS2]).T\n",
    "b=np.array([6,0,2,6])\n",
    "hx=[None,None]\n",
    "h1=[0,None]\n",
    "h2=[0,None]\n",
    "h3=[0,None]\n",
    "h4=[0,None]\n",
    "res=sci.optimize.linprog(c,A_eq=A,b_eq=b,options={\"presolve\" : \"False\"},bounds=[hx,h1,h2,h3,h4])\n",
    "print(\"x=\",Fraction(res.x[0]).limit_denominator(),\"which roughly equals\",round(res.x[0],3))"
   ]
  },
  {
   "cell_type": "markdown",
   "id": "bc16b36c",
   "metadata": {},
   "source": [
    "## (iii) \n",
    "Find the set of arbitrage free prices given by $U(X)$ and $-U(-X)$"
   ]
  },
  {
   "cell_type": "code",
   "execution_count": 78,
   "id": "54c60838",
   "metadata": {},
   "outputs": [
    {
     "name": "stdout",
     "output_type": "stream",
     "text": [
      "U(X)= 6.0\n"
     ]
    }
   ],
   "source": [
    "#U(x)\n",
    "c=[1,0,0,0,0] #finding the minimum value of x satisfying the following equations\n",
    "S1=np.array([36,24,20,12])\n",
    "S2=np.array([72,120,96,48])\n",
    "gamma1=0\n",
    "gamma2=2/5\n",
    "buyS1=S1/2*(1-gamma1)-11*(1+gamma1)\n",
    "sellS1=S1/2*(1+gamma1)-11*(1-gamma1)\n",
    "buyS2=S2/2*(1-gamma2)-44*(1+gamma2)\n",
    "sellS2=S2/2*(1+gamma2)-44*(1-gamma2)\n",
    "A=np.array([[1,1,1,1],buyS1,-sellS1,buyS2,-sellS2]).T\n",
    "b=np.array([6,0,2,6])\n",
    "hx=[None,None]\n",
    "h1=[0,None]\n",
    "h2=[0,None]\n",
    "h3=[0,None]\n",
    "h4=[0,None]\n",
    "res=sci.optimize.linprog(c,A_ub=-A,b_ub=-b,options={\"presolve\" : \"False\"},bounds=[hx,h1,h2,h3,h4])\n",
    "#solving Ax>=b for super replicating portfolio\n",
    "print(\"U(X)=\",round(res.x[0],5))"
   ]
  },
  {
   "cell_type": "code",
   "execution_count": 79,
   "id": "d429c13c",
   "metadata": {},
   "outputs": [
    {
     "name": "stdout",
     "output_type": "stream",
     "text": [
      "-U(-X)= 1.0\n"
     ]
    }
   ],
   "source": [
    "#-(U(-X))\n",
    "c=[1,0,0,0,0] #still minimising the value of x that solves the above\n",
    "#not to be confused with the payoff of the derivative X\n",
    "S1=np.array([36,24,20,12])\n",
    "S2=np.array([72,120,96,48])\n",
    "gamma1=0\n",
    "gamma2=2/5\n",
    "buyS1=S1/2*(1-gamma1)-11*(1+gamma1)\n",
    "sellS1=S1/2*(1+gamma1)-11*(1-gamma1)\n",
    "buyS2=S2/2*(1-gamma2)-44*(1+gamma2)\n",
    "sellS2=S2/2*(1+gamma2)-44*(1-gamma2)\n",
    "A=np.array([[1,1,1,1],buyS1,-sellS1,buyS2,-sellS2]).T\n",
    "b=np.array([6,0,2,6])\n",
    "hx=[None,None]\n",
    "h1=[0,None]\n",
    "h2=[0,None]\n",
    "h3=[0,None]\n",
    "h4=[0,None]\n",
    "res=sci.optimize.linprog(c,A_ub=-A,b_ub=b,options={\"presolve\" : \"False\"},bounds=[hx,h1,h2,h3,h4])\n",
    "#now solving Ax>=-b for super replicating portfolio of -X\n",
    "print(\"-U(-X)=\",round(-res.x[0],5))"
   ]
  },
  {
   "cell_type": "markdown",
   "id": "da4ed79e",
   "metadata": {},
   "source": [
    "This is quite strange as the price of $X$ we found previosuly does not lie within the set of arbitrage free prices. Is there are reason for this?"
   ]
  },
  {
   "cell_type": "markdown",
   "id": "8b0d2397",
   "metadata": {},
   "source": [
    "Try plotting how the value of $X$ changes as we vary the fees on $S^2$"
   ]
  },
  {
   "cell_type": "code",
   "execution_count": 82,
   "id": "0613745f",
   "metadata": {},
   "outputs": [],
   "source": [
    "def X(gamma):\n",
    "    c=[0,0,0,0,0]\n",
    "    S1=np.array([36,24,20,12])\n",
    "    S2=np.array([72,120,96,48])\n",
    "    gamma1=0\n",
    "    gamma2=gamma\n",
    "    buyS1=S1/2*(1-gamma1)-11*(1+gamma1)\n",
    "    sellS1=S1/2*(1+gamma1)-11*(1-gamma1)\n",
    "    buyS2=S2/2*(1-gamma2)-44*(1+gamma2)\n",
    "    sellS2=S2/2*(1+gamma2)-44*(1-gamma2)\n",
    "    A=np.array([[1,1,1,1],buyS1,-sellS1,buyS2,-sellS2]).T\n",
    "    b=np.array([6,0,2,6])\n",
    "    hx=[None,None]\n",
    "    h1=[0,None]\n",
    "    h2=[0,None]\n",
    "    h3=[0,None]\n",
    "    h4=[0,None]\n",
    "    res=sci.optimize.linprog(c,A_eq=A,b_eq=b,options={\"presolve\" : \"False\"},bounds=[hx,h1,h2,h3,h4])\n",
    "    return res.x[0]"
   ]
  },
  {
   "cell_type": "code",
   "execution_count": 83,
   "id": "50cffd66",
   "metadata": {},
   "outputs": [
    {
     "name": "stderr",
     "output_type": "stream",
     "text": [
      "<ipython-input-82-7cc487b5c605>:18: OptimizeWarning: A_eq does not appear to be of full row rank. To improve performance, check the problem formulation for redundant equality constraints.\n",
      "  res=sci.optimize.linprog(c,A_eq=A,b_eq=b,options={\"presolve\" : \"False\"},bounds=[hx,h1,h2,h3,h4])\n"
     ]
    },
    {
     "data": {
      "text/plain": [
       "(0.0, 20.0)"
      ]
     },
     "execution_count": 83,
     "metadata": {},
     "output_type": "execute_result"
    },
    {
     "data": {
      "image/png": "[encoded data removed]",
      "text/plain": [
       "<Figure size 432x288 with 1 Axes>"
      ]
     },
     "metadata": {
      "needs_background": "light"
     },
     "output_type": "display_data"
    }
   ],
   "source": [
    "fees=np.linspace(0,1,101)\n",
    "xvals=np.zeros(101)\n",
    "for i in range(0,101):\n",
    "    xvals[i]=X(fees[i])\n",
    "plt.plot(fees,xvals)\n",
    "plt.ylim(0,20)"
   ]
  },
  {
   "cell_type": "markdown",
   "id": "688b8ea6",
   "metadata": {},
   "source": [
    "How does the price of X vary with the transaction fees\n",
    "A. Always increasing\n",
    "B. Always decreasing\n",
    "C. Does not change\n",
    "D. None of the Above"
   ]
  }
 ],
 "metadata": {
  "kernelspec": {
   "display_name": "Python 3",
   "language": "python",
   "name": "python3"
  },
  "language_info": {
   "codemirror_mode": {
    "name": "ipython",
    "version": 3
   },
   "file_extension": ".py",
   "mimetype": "text/x-python",
   "name": "python",
   "nbconvert_exporter": "python",
   "pygments_lexer": "ipython3",
   "version": "3.8.8"
  }
 },
 "nbformat": 4,
 "nbformat_minor": 5
}
