{
 "cells": [
  {
   "cell_type": "code",
   "execution_count": 1,
   "id": "f76a7599",
   "metadata": {},
   "outputs": [],
   "source": [
    "import scipy as sci\n",
    "import scipy.optimize\n",
    "import numpy as np\n",
    "import fractions as frac"
   ]
  },
  {
   "cell_type": "markdown",
   "id": "dfff343f",
   "metadata": {},
   "source": [
    "Consider first the Market (B,S1,S2) given by:\n",
    "\\begin{align}\n",
    "S_1^1=\\begin{bmatrix}36\\\\24\\\\20\\\\12\\end{bmatrix},S_1^2=\\begin{bmatrix}72\\\\120\\\\96\\\\48\\end{bmatrix}, B_1=(1+r)\n",
    "\\end{align}\n",
    "Where:\n",
    "\\begin{align}\n",
    "S_0^1=11, S_0^2=44, r=1\n",
    "\\end{align}\n",
    "\n",
    "With probabilities:\n",
    "\\begin{align}\n",
    "Q=[1/6,1/6,1/2,1/6]\n",
    "\\end{align}\n"
   ]
  },
  {
   "cell_type": "markdown",
   "id": "b434fc14",
   "metadata": {},
   "source": [
    "## Q1: \n",
    "### (i)Is the market arbitrage free?"
   ]
  },
  {
   "cell_type": "code",
   "execution_count": 2,
   "id": "c87a8878",
   "metadata": {},
   "outputs": [
    {
     "name": "stdout",
     "output_type": "stream",
     "text": [
      "True\n",
      "True\n"
     ]
    }
   ],
   "source": [
    "s11=[36,24,20,12]\n",
    "s12=[72,120,96,48]\n",
    "s01=11\n",
    "s02=44\n",
    "r=1\n",
    "#find u and d for each underlying\n",
    "u1=np.max(s11)/s01\n",
    "d1=np.min(s11)/s01\n",
    "u2=np.max(s12)/s02\n",
    "d2=np.min(s12)/s02\n",
    "#Check if the 1+r lies between d and u\n",
    "print(d1<(1+r)<u1)\n",
    "print(d2<(1+r)<u2)\n"
   ]
  },
  {
   "cell_type": "code",
   "execution_count": 3,
   "id": "58d75b7e",
   "metadata": {},
   "outputs": [
    {
     "name": "stdout",
     "output_type": "stream",
     "text": [
      "Lower bound of q0 0.1666666666682874\n",
      "Upper bound of q0 0.16666666666837707\n",
      "Lower bound of q1 4.096089252087346e-13\n",
      "Upper bound of q1 0.5000000000064818\n",
      "Lower bound of q2 2.5586991552138736e-12\n",
      "Upper bound of q2 0.75000000192873\n",
      "Lower bound of q3 0.0833333333339302\n",
      "Upper bound of q3 0.3333333333111472\n"
     ]
    }
   ],
   "source": [
    "#alternatively observe the set of equivalent martingale measures\n",
    "A=np.array([[18,12,10,6],[36,60,48,24],[1,1,1,1]])\n",
    "b=np.array([11,44,1])\n",
    "q1=[0,1]\n",
    "q2=[0,1]\n",
    "q3=[0,1]\n",
    "q4=[0,1]\n",
    "\n",
    "for i in range(0,4):\n",
    "    qi=np.zeros(4)\n",
    "    qi[i]=1\n",
    "    print(\"Lower bound of q%s\"%i,(sci.optimize.linprog(qi,A_eq=A,b_eq=b,options={\"presolve\" : \"False\"},bounds=[q1,q2,q3,q4]).x[i]))\n",
    "    print(\"Upper bound of q%s\"%i,(sci.optimize.linprog(-qi,A_eq=-A,b_eq=-b,options={\"presolve\" : \"False\"},bounds=[q1,q2,q3,q4]).x[i]))"
   ]
  },
  {
   "cell_type": "markdown",
   "id": "4d50ffa0",
   "metadata": {},
   "source": [
    "From this we can see the set of Equivalent Martingale measures can be expressed as\n",
    "\\begin{align}\n",
    "Q=\\begin{bmatrix}1/6\\\\\\frac{1}{2}-\\frac{2}{3}t\\\\t\\\\\\frac{1-t}{3}\\end{bmatrix}, t\\in (0,\\frac{3}{4})\n",
    "\\end{align}\n",
    "We can see then that the set of equivalent martingale measures is not a null set, so there is no arbitrage\n",
    "(I don't know that the bounds actually show that but I don't know how else to represent the work in python)"
   ]
  },
  {
   "cell_type": "markdown",
   "id": "15968aff",
   "metadata": {},
   "source": [
    "### (ii)"
   ]
  },
  {
   "cell_type": "markdown",
   "id": "59bba921",
   "metadata": {},
   "source": [
    "Consider now the straddle option on $S^1$ with strike $K=24$, which has payoff:\n",
    "\\begin{align}\n",
    "X_1=(S_1^1-24)^++(24-S1_1^1)^+ =\\begin{bmatrix}12\\\\0\\\\4\\\\12\\end{bmatrix}\n",
    "\\end{align}\n",
    "Find the Arbitrage Free Price of this derivative"
   ]
  },
  {
   "cell_type": "code",
   "execution_count": 4,
   "id": "63f22b7f",
   "metadata": {},
   "outputs": [
    {
     "name": "stderr",
     "output_type": "stream",
     "text": [
      "<ipython-input-4-2b69e20d1bac>:7: OptimizeWarning: A_eq does not appear to be of full row rank. To improve performance, check the problem formulation for redundant equality constraints.\n",
      "  sci.optimize.linprog(c,A_eq=A,b_eq=b,options={\"presolve\" : \"False\"},bounds=[kb,ha,hb])\n"
     ]
    },
    {
     "data": {
      "text/plain": [
       "     con: array([ 3.70903308e-12, -7.40296713e-13,  7.43849426e-13,  3.71258579e-12])\n",
       "     fun: 0.0\n",
       " message: 'Optimization terminated successfully.'\n",
       "     nit: 4\n",
       "   slack: array([], dtype=float64)\n",
       "  status: 0\n",
       " success: True\n",
       "       x: array([ 3. ,  0.2, -0.2])"
      ]
     },
     "execution_count": 4,
     "metadata": {},
     "output_type": "execute_result"
    }
   ],
   "source": [
    "c=[0,0,0]\n",
    "A=[[1,7,-8],[1,1,16],[1,-1,4],[1,-5,-20]]\n",
    "b=[6,0,2,6]\n",
    "kb=[0,None]\n",
    "ha=[None,None]\n",
    "hb=[None,None]\n",
    "sci.optimize.linprog(c,A_eq=A,b_eq=b,options={\"presolve\" : \"False\"},bounds=[kb,ha,hb])\n",
    "#Here we can see that the arbitrage free price of the derivative is 3"
   ]
  },
  {
   "cell_type": "markdown",
   "id": "99d05e60",
   "metadata": {},
   "source": [
    "Show that $U(X)=D(X)$"
   ]
  },
  {
   "cell_type": "code",
   "execution_count": 5,
   "id": "8815efb8",
   "metadata": {},
   "outputs": [
    {
     "data": {
      "text/plain": [
       "     con: array([], dtype=float64)\n",
       "     fun: 2.9999999994237925\n",
       " message: 'Optimization terminated successfully.'\n",
       "     nit: 4\n",
       "   slack: array([ 4.38754011e-09,  1.38527856e-10, -1.28437616e-09, -4.13018419e-09])\n",
       "  status: 0\n",
       " success: True\n",
       "       x: array([ 3. ,  0.2, -0.2])"
      ]
     },
     "execution_count": 5,
     "metadata": {},
     "output_type": "execute_result"
    }
   ],
   "source": [
    "#U(X)\n",
    "c=[1,0,0] #minimise x in (x,h1,h2) for super-replicating portfolios\n",
    "A=np.array([[1,7,-8],[1,1,16],[1,-1,4],[1,-5,-20]]) #set of values of (x(w),s1(w),s2(w))\n",
    "b=np.array([6,0,2,6])\n",
    "kb=[0,None]\n",
    "h1=[None,None]\n",
    "h2=[None,None]\n",
    "sci.optimize.linprog(c,A_ub=-A,b_ub=-b,options={\"presolve\" : \"False\"},bounds=[kb,h1,h2])\n",
    "#here we use -A and -b as the function uses \"-Ax<-b\" ie \"Ax>b\" which is what we want "
   ]
  },
  {
   "cell_type": "code",
   "execution_count": 6,
   "id": "26fa74de",
   "metadata": {
    "scrolled": true
   },
   "outputs": [
    {
     "data": {
      "text/plain": [
       "     con: array([], dtype=float64)\n",
       "     fun: -2.999999999617449\n",
       " message: 'Optimization terminated successfully.'\n",
       "     nit: 4\n",
       "   slack: array([ 2.06582040e-09, -1.57786673e-10,  1.19495525e-11,  3.51422003e-10])\n",
       "  status: 0\n",
       " success: True\n",
       "       x: array([ 3. ,  0.2, -0.2])"
      ]
     },
     "execution_count": 6,
     "metadata": {},
     "output_type": "execute_result"
    }
   ],
   "source": [
    "#D(X)\n",
    "c=[-1,0,0] #maximise x in (x,h1,h2) for super-replicating portfolios\n",
    "A=np.array([[1,7,-8],[1,1,16],[1,-1,4],[1,-5,-20]]) #set of values of (x(w),s1(w),s2(w))\n",
    "b=np.array([6,0,2,6])\n",
    "kb=[0,None]\n",
    "h1=[None,None]\n",
    "h2=[None,None]\n",
    "sci.optimize.linprog(c,A_ub=A,b_ub=b,options={\"presolve\" : \"False\"},bounds=[kb,h1,h2])"
   ]
  },
  {
   "cell_type": "markdown",
   "id": "1be8e695",
   "metadata": {},
   "source": [
    "Here we see $U(X)=D(X)$ which shows that the arbitrage free price of $X$, $X_0=3$"
   ]
  },
  {
   "cell_type": "markdown",
   "id": "a9ac31f7",
   "metadata": {},
   "source": [
    "### (iii)\n",
    "Is the market complete?\n",
    "\n",
    "No as we saw above the Equivalent Martingale Measure is not unique, more generally the vector space given by\n",
    "\\begin{align}\n",
    "\\begin{bmatrix}1\\\\1\\\\1\\\\1\\end{bmatrix},\\begin{bmatrix}7\\\\1\\\\-1\\\\-5\\end{bmatrix},\\begin{bmatrix}-8\\\\16\\\\4\\\\-20\\end{bmatrix}\n",
    "\\end{align}\n",
    "do not span $\\mathbb{R}^4$, the set containing all possible derivative payoffs"
   ]
  },
  {
   "cell_type": "markdown",
   "id": "c3c4d20c",
   "metadata": {},
   "source": [
    "### (iv)"
   ]
  },
  {
   "cell_type": "markdown",
   "id": "a527f9c4",
   "metadata": {},
   "source": [
    "Now consider the 2 Basket Call Options Y1,Y2 on $S^1$ and $S^2$ with strike $K_1=31$ and $K_2=55$ respectively. The payoff is given by: \n",
    "\\begin{align}\n",
    "\\left(\\frac{(S_1^1+S_1^2)}{2}-K\\right)^+\n",
    "\\end{align}\n",
    "\n",
    "Are these options replicable?"
   ]
  },
  {
   "cell_type": "markdown",
   "id": "dd6483ee",
   "metadata": {},
   "source": [
    "\\begin{align}\n",
    "x\\begin{bmatrix}1\\\\1\\\\1\\\\1\\end{bmatrix}+h^1\\begin{bmatrix}7\\\\1\\\\-1\\\\-5\\end{bmatrix}+h^2\\begin{bmatrix}-8\\\\16\\\\4\\\\-20\\end{bmatrix}=\\begin{bmatrix}\\frac{23}{2}\\\\\\frac{41}{2}\\\\\\frac{27}{2}\\\\0\\end{bmatrix}\n",
    "\\end{align}\n",
    "\\begin{align}\n",
    "x\\begin{bmatrix}1\\\\1\\\\1\\\\1\\end{bmatrix}+h^1\\begin{bmatrix}7\\\\1\\\\-1\\\\-5\\end{bmatrix}+h^2\\begin{bmatrix}-8\\\\16\\\\4\\\\-20\\end{bmatrix}=\\begin{bmatrix}0\\\\\\frac{17}{2}\\\\\\frac{3}{2}\\\\0\\end{bmatrix}\n",
    "\\end{align}"
   ]
  },
  {
   "cell_type": "code",
   "execution_count": 7,
   "id": "8aac9d71",
   "metadata": {},
   "outputs": [
    {
     "name": "stderr",
     "output_type": "stream",
     "text": [
      "<ipython-input-7-87ca27964321>:8: OptimizeWarning: A_eq does not appear to be of full row rank. To improve performance, check the problem formulation for redundant equality constraints.\n",
      "  sci.optimize.linprog(c,A_eq=A,b_eq=b,options={\"presolve\" : \"False\"},bounds=[kb,h1,h2])\n"
     ]
    },
    {
     "data": {
      "text/plain": [
       "     con: array([11.5, 20.5, 13.5,  0. ])\n",
       "     fun: 0.0\n",
       " message: 'There is a linear combination of rows of A_eq that results in zero, suggesting a redundant constraint. However the same linear combination of b_eq is nonzero, suggesting that the constraints conflict and the problem is infeasible.'\n",
       "     nit: 0\n",
       "   slack: array([], dtype=float64)\n",
       "  status: 2\n",
       " success: False\n",
       "       x: array([0., 0., 0.])"
      ]
     },
     "execution_count": 7,
     "metadata": {},
     "output_type": "execute_result"
    }
   ],
   "source": [
    "#solving the above equation for Y1\n",
    "c=[0,0,0]\n",
    "A=[[1,7,-8],[1,1,16],[1,-1,4],[1,-5,-20]]\n",
    "b=[23/2,41/2,27/2,0]\n",
    "kb=[0,None]\n",
    "h1=[None,None]\n",
    "h2=[None,None]\n",
    "sci.optimize.linprog(c,A_eq=A,b_eq=b,options={\"presolve\" : \"False\"},bounds=[kb,h1,h2])\n",
    "#We can see this has no solution, so is not replicable"
   ]
  },
  {
   "cell_type": "code",
   "execution_count": 8,
   "id": "d789f16a",
   "metadata": {},
   "outputs": [
    {
     "name": "stderr",
     "output_type": "stream",
     "text": [
      "<ipython-input-8-201870378c30>:8: OptimizeWarning: A_eq does not appear to be of full row rank. To improve performance, check the problem formulation for redundant equality constraints.\n",
      "  sci.optimize.linprog(c,A_eq=A,b_eq=b,options={\"presolve\" : \"False\"},bounds=[kb,h1,h2])\n"
     ]
    },
    {
     "data": {
      "text/plain": [
       "     con: array([0. , 8.5, 1.5, 0. ])\n",
       "     fun: 0.0\n",
       " message: 'There is a linear combination of rows of A_eq that results in zero, suggesting a redundant constraint. However the same linear combination of b_eq is nonzero, suggesting that the constraints conflict and the problem is infeasible.'\n",
       "     nit: 0\n",
       "   slack: array([], dtype=float64)\n",
       "  status: 2\n",
       " success: False\n",
       "       x: array([0., 0., 0.])"
      ]
     },
     "execution_count": 8,
     "metadata": {},
     "output_type": "execute_result"
    }
   ],
   "source": [
    "#solving the above equation for Y2\n",
    "c=[0,0,0]\n",
    "A=[[1,7,-8],[1,1,16],[1,-1,4],[1,-5,-20]]\n",
    "b=[0,17/2,3/2,0]\n",
    "kb=[0,None]\n",
    "h1=[None,None]\n",
    "h2=[None,None]\n",
    "sci.optimize.linprog(c,A_eq=A,b_eq=b,options={\"presolve\" : \"False\"},bounds=[kb,h1,h2])\n",
    "#We can see this has no solution, so is not replicable"
   ]
  },
  {
   "cell_type": "markdown",
   "id": "a583c7bd",
   "metadata": {},
   "source": [
    "So neither option is replicable"
   ]
  },
  {
   "cell_type": "markdown",
   "id": "982bf246",
   "metadata": {},
   "source": [
    "### (v)\n",
    "Compute the set of Arbitrage Free Prices for $Y_1$"
   ]
  },
  {
   "cell_type": "code",
   "execution_count": 9,
   "id": "534129d9",
   "metadata": {},
   "outputs": [
    {
     "data": {
      "text/plain": [
       "     con: array([], dtype=float64)\n",
       "     fun: 12.166666660613027\n",
       " message: 'Optimization terminated successfully.'\n",
       "     nit: 5\n",
       "   slack: array([ 2.07015560e-08, -5.31396225e-08,  1.66666648e-01,  5.11977358e-08])\n",
       "  status: 0\n",
       " success: True\n",
       "       x: array([12.16666666,  0.46666667,  0.49166666])"
      ]
     },
     "execution_count": 9,
     "metadata": {},
     "output_type": "execute_result"
    }
   ],
   "source": [
    "#First find U(x)\n",
    "c=[1,0,0]\n",
    "A=np.array([[1,7,-8],[1,1,16],[1,-1,4],[1,-5,-20]])\n",
    "b=np.array([23/2,41/2,27/2,0])\n",
    "kb=[0,None]\n",
    "h1=[None,None]\n",
    "h2=[None,None]\n",
    "sci.optimize.linprog(c,A_ub=-A,b_ub=-b,options={\"presolve\" : \"False\"},bounds=[kb,h1,h2])\n",
    "#We can see this has no solution, so is not replicable"
   ]
  },
  {
   "cell_type": "code",
   "execution_count": 10,
   "id": "832a7c8c",
   "metadata": {},
   "outputs": [
    {
     "data": {
      "text/plain": [
       "     con: array([], dtype=float64)\n",
       "     fun: -12.041666548432314\n",
       " message: 'Optimization terminated successfully.'\n",
       "     nit: 5\n",
       "   slack: array([1.65180550e-07, 2.50000108e-01, 1.08781116e-07, 1.09421091e-07])\n",
       "  status: 0\n",
       " success: True\n",
       "       x: array([12.04166655,  0.47499999,  0.48333333])"
      ]
     },
     "execution_count": 10,
     "metadata": {},
     "output_type": "execute_result"
    }
   ],
   "source": [
    "#Find D(x)\n",
    "c=[-1,0,0]\n",
    "A=np.array([[1,7,-8],[1,1,16],[1,-1,4],[1,-5,-20]])\n",
    "b=np.array([23/2,41/2,27/2,0])\n",
    "kb=[0,None]\n",
    "h1=[None,None]\n",
    "h2=[None,None]\n",
    "sci.optimize.linprog(c,A_ub=A,b_ub=b,options={\"presolve\" : \"False\"},bounds=[kb,h1,h2])\n",
    "#We can see this has no solution, so is not replicable"
   ]
  },
  {
   "cell_type": "markdown",
   "id": "d9349836",
   "metadata": {},
   "source": [
    "So the set of arbitrage free prices is ($12\\frac{1}{24}$,$12\\frac{1}{6}$)\n",
    "\n",
    "### (vi)\n",
    "Fix a fair price for $Y_1$, then in the expanded market $(B,S^1,S^2,Y^1)$ replicate $Y^2$"
   ]
  },
  {
   "cell_type": "markdown",
   "id": "fd3b15e4",
   "metadata": {},
   "source": [
    "The set of equations for $Y^2$ becomes:\n",
    "\\begin{align}\n",
    "x\\begin{bmatrix}1\\\\1\\\\1\\\\1\\end{bmatrix}+h^1\\begin{bmatrix}7\\\\1\\\\-1\\\\-5\\end{bmatrix}+h^2\\begin{bmatrix}-8\\\\16\\\\4\\\\-20\\end{bmatrix}+h^3\\begin{bmatrix}-\\frac{3}{5}\\\\\\frac{42}{5}\\\\\\frac{7}{5}\\\\-\\frac{121}{10}\\end{bmatrix}\n",
    "=\\begin{bmatrix}0\\\\\\frac{17}{2}\\\\\\frac{3}{2}\\\\0\\end{bmatrix}\n",
    "\\end{align}\n",
    "Where the $Y^1_0 = \\frac{121}{10}$"
   ]
  },
  {
   "cell_type": "code",
   "execution_count": 11,
   "id": "1184bb97",
   "metadata": {},
   "outputs": [
    {
     "data": {
      "text/plain": [
       "     con: array([-7.41783879e-09,  5.56378676e-08,  3.70906683e-09, -7.41753325e-09])\n",
       "     fun: 0.0\n",
       " message: 'Optimization terminated successfully.'\n",
       "     nit: 4\n",
       "   slack: array([], dtype=float64)\n",
       "  status: 0\n",
       " success: True\n",
       "       x: array([  2.58333332, -11.94999991, -12.00833324,  24.99999981])"
      ]
     },
     "execution_count": 11,
     "metadata": {},
     "output_type": "execute_result"
    }
   ],
   "source": [
    "c=[0,0,0,0]\n",
    "A=[[1,7,-8,-3/5],[1,1,16,42/5],[1,-1,4,7/5],[1,-5,-20,-121/10]]\n",
    "b=[0,17/2,3/2,0]\n",
    "kb=[0,None]\n",
    "h1=[None,None]\n",
    "h2=[None,None]\n",
    "h3=[None,None]\n",
    "sci.optimize.linprog(c,A_eq=A,b_eq=b,options={\"presolve\" : \"False\"},bounds=[kb,h1,h2,h3])"
   ]
  },
  {
   "cell_type": "markdown",
   "id": "d0d3d481",
   "metadata": {},
   "source": [
    "$Y_0^2=\\frac{31}{12}$"
   ]
  },
  {
   "cell_type": "markdown",
   "id": "151c1e88",
   "metadata": {},
   "source": [
    "Would also be interesting to see a question about a super/sub hedge for Y1 or Y2 when they are not replicable, would this simply be U(Y2), I've seen some definitions requiring that the replicating portfolio is self-financing"
   ]
  }
 ],
 "metadata": {
  "kernelspec": {
   "display_name": "Python 3",
   "language": "python",
   "name": "python3"
  },
  "language_info": {
   "codemirror_mode": {
    "name": "ipython",
    "version": 3
   },
   "file_extension": ".py",
   "mimetype": "text/x-python",
   "name": "python",
   "nbconvert_exporter": "python",
   "pygments_lexer": "ipython3",
   "version": "3.8.8"
  }
 },
 "nbformat": 4,
 "nbformat_minor": 5
}
